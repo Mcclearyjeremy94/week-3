{
 "cells": [
  {
   "cell_type": "code",
   "execution_count": 1,
   "id": "16a63ba7",
   "metadata": {},
   "outputs": [],
   "source": [
    "import pandas as pd\n",
    "import numpy as np\n",
    "import scipy.stats as stats\n",
    "import matplotlib.pyplot as plt\n",
    "import seaborn as sns"
   ]
  },
  {
   "cell_type": "code",
   "execution_count": 2,
   "id": "5e0f717a",
   "metadata": {},
   "outputs": [
    {
     "data": {
      "text/html": [
       "<div>\n",
       "<style scoped>\n",
       "    .dataframe tbody tr th:only-of-type {\n",
       "        vertical-align: middle;\n",
       "    }\n",
       "\n",
       "    .dataframe tbody tr th {\n",
       "        vertical-align: top;\n",
       "    }\n",
       "\n",
       "    .dataframe thead th {\n",
       "        text-align: right;\n",
       "    }\n",
       "</style>\n",
       "<table border=\"1\" class=\"dataframe\">\n",
       "  <thead>\n",
       "    <tr style=\"text-align: right;\">\n",
       "      <th></th>\n",
       "      <th>age</th>\n",
       "      <th>sex</th>\n",
       "      <th>bmi</th>\n",
       "      <th>children</th>\n",
       "      <th>smoker</th>\n",
       "      <th>region</th>\n",
       "      <th>charges</th>\n",
       "    </tr>\n",
       "  </thead>\n",
       "  <tbody>\n",
       "    <tr>\n",
       "      <th>0</th>\n",
       "      <td>19</td>\n",
       "      <td>female</td>\n",
       "      <td>27.900</td>\n",
       "      <td>0</td>\n",
       "      <td>yes</td>\n",
       "      <td>southwest</td>\n",
       "      <td>16884.92400</td>\n",
       "    </tr>\n",
       "    <tr>\n",
       "      <th>1</th>\n",
       "      <td>18</td>\n",
       "      <td>male</td>\n",
       "      <td>33.770</td>\n",
       "      <td>1</td>\n",
       "      <td>no</td>\n",
       "      <td>southeast</td>\n",
       "      <td>1725.55230</td>\n",
       "    </tr>\n",
       "    <tr>\n",
       "      <th>2</th>\n",
       "      <td>28</td>\n",
       "      <td>male</td>\n",
       "      <td>33.000</td>\n",
       "      <td>3</td>\n",
       "      <td>no</td>\n",
       "      <td>southeast</td>\n",
       "      <td>4449.46200</td>\n",
       "    </tr>\n",
       "    <tr>\n",
       "      <th>3</th>\n",
       "      <td>33</td>\n",
       "      <td>male</td>\n",
       "      <td>22.705</td>\n",
       "      <td>0</td>\n",
       "      <td>no</td>\n",
       "      <td>northwest</td>\n",
       "      <td>21984.47061</td>\n",
       "    </tr>\n",
       "    <tr>\n",
       "      <th>4</th>\n",
       "      <td>32</td>\n",
       "      <td>male</td>\n",
       "      <td>28.880</td>\n",
       "      <td>0</td>\n",
       "      <td>no</td>\n",
       "      <td>northwest</td>\n",
       "      <td>3866.85520</td>\n",
       "    </tr>\n",
       "  </tbody>\n",
       "</table>\n",
       "</div>"
      ],
      "text/plain": [
       "   age     sex     bmi  children smoker     region      charges\n",
       "0   19  female  27.900         0    yes  southwest  16884.92400\n",
       "1   18    male  33.770         1     no  southeast   1725.55230\n",
       "2   28    male  33.000         3     no  southeast   4449.46200\n",
       "3   33    male  22.705         0     no  northwest  21984.47061\n",
       "4   32    male  28.880         0     no  northwest   3866.85520"
      ]
     },
     "execution_count": 2,
     "metadata": {},
     "output_type": "execute_result"
    }
   ],
   "source": [
    "df = pd.read_csv('insurance.csv')\n",
    "df.head()"
   ]
  },
  {
   "cell_type": "markdown",
   "id": "7525ff87",
   "metadata": {},
   "source": [
    "Smokers vs non smokers insurance charges\n",
    "1. Smokers and non smokers have the same amount of insurance charges.\n",
    "There is a significant difference between smokers and non smokers insurance charges.\n",
    "2. This would be a continious nominal data type"
   ]
  },
  {
   "cell_type": "code",
   "execution_count": 3,
   "id": "2a945a27",
   "metadata": {},
   "outputs": [],
   "source": [
    "#3.\n",
    "#sample = df.sample(n=,random_state=42)\n",
    "smoker = df.loc[ df['smoker']=='yes', \"charges\"]\n",
    "non_smoker = df.loc[ df['smoker']=='no',\"charges\"]"
   ]
  },
  {
   "cell_type": "code",
   "execution_count": 4,
   "id": "8c567288",
   "metadata": {},
   "outputs": [
    {
     "name": "stdout",
     "output_type": "stream",
     "text": [
      "For smokers(n=274): Mean=32050.23\n",
      "For non smokers(n=1064): Mean=8434.27\n"
     ]
    }
   ],
   "source": [
    "print(f\"For smokers(n={len(smoker)}): Mean={np.mean(smoker):.2f}\")\n",
    "print(f\"For non smokers(n={len(non_smoker)}): Mean={np.mean(non_smoker):.2f}\")"
   ]
  },
  {
   "cell_type": "code",
   "execution_count": 5,
   "id": "1d1a2fba",
   "metadata": {},
   "outputs": [
    {
     "data": {
      "text/plain": [
       "0"
      ]
     },
     "execution_count": 5,
     "metadata": {},
     "output_type": "execute_result"
    }
   ],
   "source": [
    "smoker_outliers = np.abs(stats.zscore(smoker)) > 3\n",
    "smoker_outliers.sum()\n"
   ]
  },
  {
   "cell_type": "code",
   "execution_count": 6,
   "id": "d36761f7",
   "metadata": {},
   "outputs": [
    {
     "data": {
      "text/plain": [
       "24"
      ]
     },
     "execution_count": 6,
     "metadata": {},
     "output_type": "execute_result"
    }
   ],
   "source": [
    "non_smoker_outliers = np.abs(stats.zscore(non_smoker)) > 3\n",
    "non_smoker_outliers.sum()"
   ]
  },
  {
   "cell_type": "code",
   "execution_count": 7,
   "id": "29056be3",
   "metadata": {},
   "outputs": [
    {
     "data": {
      "text/plain": [
       "1.9193129759002216e-69"
      ]
     },
     "execution_count": 7,
     "metadata": {},
     "output_type": "execute_result"
    }
   ],
   "source": [
    "result = stats.normaltest(non_smoker)\n",
    "result.pvalue"
   ]
  },
  {
   "cell_type": "code",
   "execution_count": 8,
   "id": "eaaa8514",
   "metadata": {},
   "outputs": [
    {
     "data": {
      "text/plain": [
       "5.564930630036463e-14"
      ]
     },
     "execution_count": 8,
     "metadata": {},
     "output_type": "execute_result"
    }
   ],
   "source": [
    "result = stats.normaltest(smoker)\n",
    "result.pvalue"
   ]
  },
  {
   "cell_type": "code",
   "execution_count": 9,
   "id": "156b0c01",
   "metadata": {},
   "outputs": [
    {
     "name": "stdout",
     "output_type": "stream",
     "text": [
      "LeveneResult(statistic=332.6135162726081, pvalue=1.5593284881803726e-66)\n"
     ]
    }
   ],
   "source": [
    "result = stats.levene(non_smoker, smoker)\n",
    "print(result)"
   ]
  },
  {
   "cell_type": "code",
   "execution_count": 10,
   "id": "4cd10d79",
   "metadata": {},
   "outputs": [
    {
     "name": "stdout",
     "output_type": "stream",
     "text": [
      "The groups do NOT have equal variance.\n"
     ]
    }
   ],
   "source": [
    "if result.pvalue < .05:\n",
    "    print(f\"The groups do NOT have equal variance.\")\n",
    "else:\n",
    "    print(f\"The groups DO have equal variance.\")"
   ]
  },
  {
   "cell_type": "code",
   "execution_count": 11,
   "id": "bba51289",
   "metadata": {},
   "outputs": [
    {
     "name": "stdout",
     "output_type": "stream",
     "text": [
      "Ttest_indResult(statistic=32.751887766341824, pvalue=5.88946444671698e-103)\n"
     ]
    },
    {
     "data": {
      "text/plain": [
       "True"
      ]
     },
     "execution_count": 11,
     "metadata": {},
     "output_type": "execute_result"
    }
   ],
   "source": [
    "result = stats.ttest_ind(smoker, non_smoker, equal_var=False)\n",
    "print(result)\n",
    "result.pvalue  < .05"
   ]
  },
  {
   "cell_type": "code",
   "execution_count": 12,
   "id": "df51840d",
   "metadata": {},
   "outputs": [
    {
     "data": {
      "text/plain": [
       "32050.23183153284"
      ]
     },
     "execution_count": 12,
     "metadata": {},
     "output_type": "execute_result"
    }
   ],
   "source": [
    "smoker.mean()"
   ]
  },
  {
   "cell_type": "code",
   "execution_count": 13,
   "id": "1c6d2c5f",
   "metadata": {},
   "outputs": [
    {
     "data": {
      "text/plain": [
       "8434.268297856204"
      ]
     },
     "execution_count": 13,
     "metadata": {},
     "output_type": "execute_result"
    }
   ],
   "source": [
    "non_smoker.mean()"
   ]
  },
  {
   "cell_type": "markdown",
   "id": "754d03e0",
   "metadata": {},
   "source": [
    "4. Since we reject the null hyptohesis cause both p-values are greater than alpha(.05) we can come to the conclusion that smokers have a higher insurance charge than non smokers."
   ]
  },
  {
   "cell_type": "code",
   "execution_count": 19,
   "id": "8a3dc781",
   "metadata": {},
   "outputs": [
    {
     "data": {
      "image/png": "[encoded data removed]",
      "text/plain": [
       "<Figure size 1000x500 with 2 Axes>"
      ]
     },
     "metadata": {},
     "output_type": "display_data"
    }
   ],
   "source": [
    "#5.\n",
    "smoker_palette={'smoker':'dodgerblue', 'non_smoker':'salmon'}\n",
    "## Visualizing Sample means\n",
    "fig, (ax,ax_bar) = plt.subplots(figsize= (10,5), ncols=2, \n",
    "                                constrained_layout=True,\n",
    "                                gridspec_kw={'width_ratios':[0.8,0.2]})\n",
    "\n",
    "\n",
    "# Histogram\n",
    "ax = sns.histplot(data=df, x='charges', hue = 'smoker',fill=True,kde=True,\n",
    "                  stat='density',common_norm=False,ax=ax)\n",
    "                \n",
    "\n",
    "ax.axvline(np.mean(smoker), ls='--',lw=3, \n",
    "           label=f\"smoker (Mean={np.mean(smoker):.2f})\",color=smoker_palette['smoker'])\n",
    "\n",
    "ax.axvline(np.mean(non_smoker), ls='--', lw=3, \n",
    "           label=f\"non_smoker (Mean={np.mean(non_smoker):.2f})\",color=smoker_palette['non_smoker'])\n",
    "\n",
    "ax.legend(prop={\"size\":14}, loc='upper right')#bbox_to_anchor=[1,1])\n",
    "## Barplot\n",
    "sns.barplot(data=df, x='smoker',y='charges',ax = ax_bar)\n",
    "fig.suptitle('Comparison of smoker status by charge',fontsize='xx-large');"
   ]
  },
  {
   "cell_type": "markdown",
   "id": "80f4511c",
   "metadata": {},
   "source": [
    "1.Null hypothesis: Men and women have equal likelihood of being smokers.Non-null hypothesis: There is a difference between likelihood of men being smokers compared to women being smokers.\n",
    "2.This would be a discrete categorical data type.\n"
   ]
  },
  {
   "cell_type": "code",
   "execution_count": 44,
   "id": "622004e3",
   "metadata": {},
   "outputs": [],
   "source": [
    "df['smoker']= df['smoker'].replace({'no':0, 'yes':1})"
   ]
  },
  {
   "cell_type": "code",
   "execution_count": 45,
   "id": "21a69b2d",
   "metadata": {},
   "outputs": [],
   "source": [
    "#sample = df.sample(n=df,random_state=42)\n",
    "male_smoker = df.loc[ df['sex']=='male', \"smoker\"]\n",
    "female_smoker = df.loc[ df['sex']=='female',\"smoker\"]"
   ]
  },
  {
   "cell_type": "code",
   "execution_count": 46,
   "id": "31f0b2f4",
   "metadata": {},
   "outputs": [
    {
     "data": {
      "text/plain": [
       "0    517\n",
       "1    159\n",
       "Name: smoker, dtype: int64"
      ]
     },
     "execution_count": 46,
     "metadata": {},
     "output_type": "execute_result"
    }
   ],
   "source": [
    "male_smoker.value_counts()"
   ]
  },
  {
   "cell_type": "code",
   "execution_count": 47,
   "id": "e736a19a",
   "metadata": {},
   "outputs": [
    {
     "data": {
      "text/plain": [
       "0    547\n",
       "1    115\n",
       "Name: smoker, dtype: int64"
      ]
     },
     "execution_count": 47,
     "metadata": {},
     "output_type": "execute_result"
    }
   ],
   "source": [
    "female_smoker.value_counts()"
   ]
  },
  {
   "cell_type": "code",
   "execution_count": 48,
   "id": "48207c51",
   "metadata": {},
   "outputs": [
    {
     "name": "stdout",
     "output_type": "stream",
     "text": [
      "For male smokers(n=676): Mean=0.24\n",
      "For female smokers(n=662): Mean=0.17\n"
     ]
    }
   ],
   "source": [
    "print(f\"For male smokers(n={len(male_smoker)}): Mean={np.mean(male_smoker):.2f}\")\n",
    "print(f\"For female smokers(n={len(female_smoker)}): Mean={np.mean(female_smoker):.2f}\")"
   ]
  },
  {
   "cell_type": "code",
   "execution_count": 49,
   "id": "4787ebdc",
   "metadata": {},
   "outputs": [
    {
     "data": {
      "text/plain": [
       "0"
      ]
     },
     "execution_count": 49,
     "metadata": {},
     "output_type": "execute_result"
    }
   ],
   "source": [
    "male_outliers = np.abs(stats.zscore(male_smoker)) > 3\n",
    "male_outliers.sum()\n"
   ]
  },
  {
   "cell_type": "code",
   "execution_count": 50,
   "id": "7bcd51d5",
   "metadata": {},
   "outputs": [
    {
     "data": {
      "text/plain": [
       "0"
      ]
     },
     "execution_count": 50,
     "metadata": {},
     "output_type": "execute_result"
    }
   ],
   "source": [
    "female_outliers = np.abs(stats.zscore(female_smoker)) > 3\n",
    "female_outliers.sum()\n"
   ]
  },
  {
   "cell_type": "code",
   "execution_count": 41,
   "id": "5ce66b39",
   "metadata": {},
   "outputs": [
    {
     "data": {
      "text/plain": [
       "0.016444010561215573"
      ]
     },
     "execution_count": 41,
     "metadata": {},
     "output_type": "execute_result"
    }
   ],
   "source": [
    "result = stats.normaltest(male_smoker)\n",
    "result.pvalue"
   ]
  },
  {
   "cell_type": "code",
   "execution_count": 27,
   "id": "6c9fe124",
   "metadata": {},
   "outputs": [
    {
     "data": {
      "text/plain": [
       "7.144838400596992e-05"
      ]
     },
     "execution_count": 27,
     "metadata": {},
     "output_type": "execute_result"
    }
   ],
   "source": [
    "result = stats.normaltest(female_smoker)\n",
    "result.pvalue"
   ]
  },
  {
   "cell_type": "code",
   "execution_count": 28,
   "id": "954ca1ff",
   "metadata": {},
   "outputs": [
    {
     "name": "stdout",
     "output_type": "stream",
     "text": [
      "LeveneResult(statistic=1.7573229571984437, pvalue=0.19123353816943495)\n"
     ]
    }
   ],
   "source": [
    "result = stats.levene(male_smoker, female_smoker)\n",
    "print(result)"
   ]
  },
  {
   "cell_type": "code",
   "execution_count": 29,
   "id": "d7eb7459",
   "metadata": {},
   "outputs": [
    {
     "name": "stdout",
     "output_type": "stream",
     "text": [
      "The groups DO have equal variance.\n"
     ]
    }
   ],
   "source": [
    "if result.pvalue < .05:\n",
    "    print(f\"The groups do NOT have equal variance.\")\n",
    "else:\n",
    "    print(f\"The groups DO have equal variance.\")"
   ]
  },
  {
   "cell_type": "code",
   "execution_count": 30,
   "id": "74964c08",
   "metadata": {},
   "outputs": [
    {
     "name": "stdout",
     "output_type": "stream",
     "text": [
      "Ttest_indResult(statistic=1.3256405837173377, pvalue=0.19123353816943572)\n"
     ]
    },
    {
     "data": {
      "text/plain": [
       "False"
      ]
     },
     "execution_count": 30,
     "metadata": {},
     "output_type": "execute_result"
    }
   ],
   "source": [
    "result = stats.ttest_ind(male_smoker, female_smoker, equal_var=True)\n",
    "print(result)\n",
    "result.pvalue  < .05"
   ]
  },
  {
   "cell_type": "code",
   "execution_count": 31,
   "id": "4362f5f7",
   "metadata": {},
   "outputs": [
    {
     "data": {
      "text/plain": [
       "0.30434782608695654"
      ]
     },
     "execution_count": 31,
     "metadata": {},
     "output_type": "execute_result"
    }
   ],
   "source": [
    "male_smoker.mean()"
   ]
  },
  {
   "cell_type": "code",
   "execution_count": 32,
   "id": "c9daabc3",
   "metadata": {},
   "outputs": [
    {
     "data": {
      "text/plain": [
       "0.14814814814814814"
      ]
     },
     "execution_count": 32,
     "metadata": {},
     "output_type": "execute_result"
    }
   ],
   "source": [
    "female_smoker.mean()"
   ]
  },
  {
   "cell_type": "markdown",
   "id": "b258d5f4",
   "metadata": {},
   "source": [
    "4. Since we reject the null hypothesis cause both male and female smoker values are greater than alpha(.05) we can come to the conclusion since the mean of the male smokers is higher than the female we can also conclude that males have a higher chance of being smokers."
   ]
  },
  {
   "cell_type": "code",
   "execution_count": 115,
   "id": "9eca18e8",
   "metadata": {},
   "outputs": [
    {
     "data": {
      "image/png": "[encoded data removed]",
      "text/plain": [
       "<Figure size 640x480 with 1 Axes>"
      ]
     },
     "metadata": {},
     "output_type": "display_data"
    }
   ],
   "source": [
    "#5.\n",
    "gender_palette={'male_smoker':'dodgerblue', 'female_smoker':'salmon'}\n",
    "## Visualizing Sample means\n",
    "#fig, (ax,ax_bar) = plt.subplots(figsize= (10,5), ncols=2, \n",
    "                                #constrained_layout=True,\n",
    "                                #gridspec_kw={'width_ratios':[0.8,0.2]})\n",
    "\n",
    "\n",
    "# Histogram\n",
    "#ax = sns.histplot(data=df, x='sex', hue = 'smoker',fill=True,kde=True,\n",
    "                  #stat='density',common_norm=False,ax=ax,)\n",
    "\n",
    "#ax.axvline(np.mean(male_smoker), ls='--',lw=3, \n",
    "           #label=f\"male_smoker (Mean={np.mean(male_smoker):.2f})\")\n",
    "\n",
    "#ax.axvline(np.mean(female_smoker), ls='-', lw=3, \n",
    "           #label=f\"female_smoker (Mean={np.mean(female_smoker):.2f})\")\n",
    "\n",
    "#ax.legend(prop={\"size\":14}, loc='upper right')#bbox_to_anchor=[1,1])\n",
    "## Barplot\n",
    "sns.barplot(data=df, x='sex',y='smoker')\n",
    "fig.suptitle('Comparison of smoker status by sex',fontsize='xx-large');"
   ]
  },
  {
   "cell_type": "markdown",
   "id": "6966fa7f",
   "metadata": {},
   "source": [
    "1. Null hypothesis: Different regions do not have different variance of charges. Non-null hypothesis: Different regions do have a variance of charges\n",
    "2. This is a continous nominal data type"
   ]
  },
  {
   "cell_type": "code",
   "execution_count": 57,
   "id": "524dbe36",
   "metadata": {},
   "outputs": [
    {
     "data": {
      "text/plain": [
       "southeast    364\n",
       "southwest    325\n",
       "northwest    325\n",
       "northeast    324\n",
       "Name: region, dtype: int64"
      ]
     },
     "execution_count": 57,
     "metadata": {},
     "output_type": "execute_result"
    }
   ],
   "source": [
    "df['region'].value_counts()"
   ]
  },
  {
   "cell_type": "code",
   "execution_count": 96,
   "id": "c842e641",
   "metadata": {},
   "outputs": [],
   "source": [
    "#3.\n",
    "#sample = df.sample(n=50,random_state=42)\n",
    "southeast = df.loc[ df['region']=='southeast', \"charges\"]\n",
    "southwest = df.loc[ df['region']=='southwest',\"charges\"]\n",
    "northwest = df.loc[ df['region']=='northwest',\"charges\"]\n",
    "northeast = df.loc[ df['region']=='northeast',\"charges\"]"
   ]
  },
  {
   "cell_type": "code",
   "execution_count": 97,
   "id": "fdd08197",
   "metadata": {},
   "outputs": [
    {
     "data": {
      "text/plain": [
       "2"
      ]
     },
     "execution_count": 97,
     "metadata": {},
     "output_type": "execute_result"
    }
   ],
   "source": [
    "southeast_outliers = np.abs(stats.zscore(southeast)) > 3\n",
    "southeast_outliers.sum()"
   ]
  },
  {
   "cell_type": "code",
   "execution_count": 98,
   "id": "4909128f",
   "metadata": {},
   "outputs": [
    {
     "data": {
      "text/plain": [
       "8"
      ]
     },
     "execution_count": 98,
     "metadata": {},
     "output_type": "execute_result"
    }
   ],
   "source": [
    "southwest_outliers = np.abs(stats.zscore(southwest)) > 3\n",
    "southwest_outliers.sum()"
   ]
  },
  {
   "cell_type": "code",
   "execution_count": 99,
   "id": "1c389547",
   "metadata": {},
   "outputs": [
    {
     "data": {
      "text/plain": [
       "4"
      ]
     },
     "execution_count": 99,
     "metadata": {},
     "output_type": "execute_result"
    }
   ],
   "source": [
    "northeast_outliers = np.abs(stats.zscore(northeast)) > 3\n",
    "northeast_outliers.sum()"
   ]
  },
  {
   "cell_type": "code",
   "execution_count": 100,
   "id": "6062418a",
   "metadata": {},
   "outputs": [
    {
     "data": {
      "text/plain": [
       "7"
      ]
     },
     "execution_count": 100,
     "metadata": {},
     "output_type": "execute_result"
    }
   ],
   "source": [
    "northwest_outliers = np.abs(stats.zscore(northwest)) > 3\n",
    "northwest_outliers.sum()"
   ]
  },
  {
   "cell_type": "code",
   "execution_count": 101,
   "id": "b2affa77",
   "metadata": {},
   "outputs": [],
   "source": [
    "southeast= southeast[~southeast_outliers]"
   ]
  },
  {
   "cell_type": "code",
   "execution_count": 102,
   "id": "e9a17636",
   "metadata": {},
   "outputs": [
    {
     "data": {
      "text/plain": [
       "(362, 325, 325, 324)"
      ]
     },
     "execution_count": 102,
     "metadata": {},
     "output_type": "execute_result"
    }
   ],
   "source": [
    "len(southeast), len(southwest),len(northwest),len(northeast)"
   ]
  },
  {
   "cell_type": "code",
   "execution_count": 103,
   "id": "cb13775a",
   "metadata": {},
   "outputs": [],
   "source": [
    "southwest = southwest[~southwest_outliers]"
   ]
  },
  {
   "cell_type": "code",
   "execution_count": 104,
   "id": "a739a863",
   "metadata": {},
   "outputs": [],
   "source": [
    "northeast= northeast[~northeast_outliers]"
   ]
  },
  {
   "cell_type": "code",
   "execution_count": 105,
   "id": "0c30f69c",
   "metadata": {},
   "outputs": [],
   "source": [
    "northwest= northwest[~northwest_outliers]"
   ]
  },
  {
   "cell_type": "code",
   "execution_count": 106,
   "id": "0e86d941",
   "metadata": {},
   "outputs": [
    {
     "data": {
      "text/plain": [
       "1.9369900501741734e-13"
      ]
     },
     "execution_count": 106,
     "metadata": {},
     "output_type": "execute_result"
    }
   ],
   "source": [
    "result = stats.normaltest(southeast)\n",
    "result.pvalue"
   ]
  },
  {
   "cell_type": "code",
   "execution_count": 107,
   "id": "56b017e5",
   "metadata": {},
   "outputs": [
    {
     "data": {
      "text/plain": [
       "7.728611243124505e-22"
      ]
     },
     "execution_count": 107,
     "metadata": {},
     "output_type": "execute_result"
    }
   ],
   "source": [
    "result = stats.normaltest(southwest)\n",
    "result.pvalue"
   ]
  },
  {
   "cell_type": "code",
   "execution_count": 108,
   "id": "15709e6f",
   "metadata": {},
   "outputs": [
    {
     "data": {
      "text/plain": [
       "6406.410700     1\n",
       "2721.320800     1\n",
       "4661.286350     1\n",
       "8688.858850     1\n",
       "19798.054550    1\n",
       "               ..\n",
       "3167.455850     1\n",
       "7323.734819     1\n",
       "6555.070350     1\n",
       "2727.395100     1\n",
       "2205.980800     1\n",
       "Name: charges, Length: 320, dtype: int64"
      ]
     },
     "execution_count": 108,
     "metadata": {},
     "output_type": "execute_result"
    }
   ],
   "source": [
    "northeast.value_counts()"
   ]
  },
  {
   "cell_type": "code",
   "execution_count": 109,
   "id": "1007a4d9",
   "metadata": {},
   "outputs": [
    {
     "data": {
      "text/plain": [
       "3.5578767155624347e-17"
      ]
     },
     "execution_count": 109,
     "metadata": {},
     "output_type": "execute_result"
    }
   ],
   "source": [
    "result = stats.normaltest(northeast)\n",
    "result.pvalue"
   ]
  },
  {
   "cell_type": "markdown",
   "id": "2902debf",
   "metadata": {},
   "source": [
    "# Since all the pvalues are less than alpha we can come to the conclusion that the region doesnt have a significant effect on the insurance charges."
   ]
  },
  {
   "cell_type": "code",
   "execution_count": 118,
   "id": "782b7841",
   "metadata": {},
   "outputs": [
    {
     "data": {
      "image/png": "[encoded data removed]",
      "text/plain": [
       "<Figure size 640x480 with 1 Axes>"
      ]
     },
     "metadata": {},
     "output_type": "display_data"
    }
   ],
   "source": [
    "sns.barplot(data=df, x='region',y='charges')\n",
    "fig.suptitle('Comparison of charges based on region',fontsize='xx-large');"
   ]
  },
  {
   "cell_type": "code",
   "execution_count": null,
   "id": "a97b73b8",
   "metadata": {},
   "outputs": [],
   "source": []
  }
 ],
 "metadata": {
  "kernelspec": {
   "display_name": "Python (dojo-env)",
   "language": "python",
   "name": "dojo-env"
  },
  "language_info": {
   "codemirror_mode": {
    "name": "ipython",
    "version": 3
   },
   "file_extension": ".py",
   "mimetype": "text/x-python",
   "name": "python",
   "nbconvert_exporter": "python",
   "pygments_lexer": "ipython3",
   "version": "3.9.15"
  },
  "toc": {
   "base_numbering": 1,
   "nav_menu": {},
   "number_sections": true,
   "sideBar": true,
   "skip_h1_title": false,
   "title_cell": "Table of Contents",
   "title_sidebar": "Contents",
   "toc_cell": false,
   "toc_position": {},
   "toc_section_display": true,
   "toc_window_display": false
  }
 },
 "nbformat": 4,
 "nbformat_minor": 5
}
